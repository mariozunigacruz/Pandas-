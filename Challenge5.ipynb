{
 "cells": [
  {
   "cell_type": "code",
   "execution_count": 133,
   "metadata": {},
   "outputs": [],
   "source": [
    "import pandas as pd\n",
    "import numpy as np\n",
    "import statsmodels.formula.api as smf\n",
    "import matplotlib.pyplot as plt\n",
    "import seaborn as sns"
   ]
  },
  {
   "cell_type": "code",
   "execution_count": 134,
   "metadata": {},
   "outputs": [
    {
     "data": {
      "text/html": [
       "<div>\n",
       "<style scoped>\n",
       "    .dataframe tbody tr th:only-of-type {\n",
       "        vertical-align: middle;\n",
       "    }\n",
       "\n",
       "    .dataframe tbody tr th {\n",
       "        vertical-align: top;\n",
       "    }\n",
       "\n",
       "    .dataframe thead th {\n",
       "        text-align: right;\n",
       "    }\n",
       "</style>\n",
       "<table border=\"1\" class=\"dataframe\">\n",
       "  <thead>\n",
       "    <tr style=\"text-align: right;\">\n",
       "      <th></th>\n",
       "      <th>Rank</th>\n",
       "      <th>Name</th>\n",
       "      <th>Platform</th>\n",
       "      <th>Year</th>\n",
       "      <th>Genre</th>\n",
       "      <th>Publisher</th>\n",
       "      <th>NA_Sales</th>\n",
       "      <th>EU_Sales</th>\n",
       "      <th>JP_Sales</th>\n",
       "      <th>Other_Sales</th>\n",
       "      <th>Global_Sales</th>\n",
       "    </tr>\n",
       "  </thead>\n",
       "  <tbody>\n",
       "    <tr>\n",
       "      <th>0</th>\n",
       "      <td>1</td>\n",
       "      <td>Wii Sports</td>\n",
       "      <td>Wii</td>\n",
       "      <td>2006.0</td>\n",
       "      <td>Sports</td>\n",
       "      <td>Nintendo</td>\n",
       "      <td>41.49</td>\n",
       "      <td>29.02</td>\n",
       "      <td>3.77</td>\n",
       "      <td>8.46</td>\n",
       "      <td>82.74</td>\n",
       "    </tr>\n",
       "    <tr>\n",
       "      <th>1</th>\n",
       "      <td>2</td>\n",
       "      <td>Super Mario Bros.</td>\n",
       "      <td>NES</td>\n",
       "      <td>1985.0</td>\n",
       "      <td>Platform</td>\n",
       "      <td>Nintendo</td>\n",
       "      <td>29.08</td>\n",
       "      <td>3.58</td>\n",
       "      <td>6.81</td>\n",
       "      <td>0.77</td>\n",
       "      <td>40.24</td>\n",
       "    </tr>\n",
       "    <tr>\n",
       "      <th>2</th>\n",
       "      <td>3</td>\n",
       "      <td>Mario Kart Wii</td>\n",
       "      <td>Wii</td>\n",
       "      <td>2008.0</td>\n",
       "      <td>Racing</td>\n",
       "      <td>Nintendo</td>\n",
       "      <td>15.85</td>\n",
       "      <td>12.88</td>\n",
       "      <td>3.79</td>\n",
       "      <td>3.31</td>\n",
       "      <td>35.82</td>\n",
       "    </tr>\n",
       "    <tr>\n",
       "      <th>3</th>\n",
       "      <td>4</td>\n",
       "      <td>Wii Sports Resort</td>\n",
       "      <td>Wii</td>\n",
       "      <td>2009.0</td>\n",
       "      <td>Sports</td>\n",
       "      <td>Nintendo</td>\n",
       "      <td>15.75</td>\n",
       "      <td>11.01</td>\n",
       "      <td>3.28</td>\n",
       "      <td>2.96</td>\n",
       "      <td>33.00</td>\n",
       "    </tr>\n",
       "    <tr>\n",
       "      <th>4</th>\n",
       "      <td>5</td>\n",
       "      <td>Pokemon Red/Pokemon Blue</td>\n",
       "      <td>GB</td>\n",
       "      <td>1996.0</td>\n",
       "      <td>Role-Playing</td>\n",
       "      <td>Nintendo</td>\n",
       "      <td>11.27</td>\n",
       "      <td>8.89</td>\n",
       "      <td>10.22</td>\n",
       "      <td>1.00</td>\n",
       "      <td>31.37</td>\n",
       "    </tr>\n",
       "  </tbody>\n",
       "</table>\n",
       "</div>"
      ],
      "text/plain": [
       "   Rank                      Name Platform    Year         Genre Publisher  \\\n",
       "0     1                Wii Sports      Wii  2006.0        Sports  Nintendo   \n",
       "1     2         Super Mario Bros.      NES  1985.0      Platform  Nintendo   \n",
       "2     3            Mario Kart Wii      Wii  2008.0        Racing  Nintendo   \n",
       "3     4         Wii Sports Resort      Wii  2009.0        Sports  Nintendo   \n",
       "4     5  Pokemon Red/Pokemon Blue       GB  1996.0  Role-Playing  Nintendo   \n",
       "\n",
       "   NA_Sales  EU_Sales  JP_Sales  Other_Sales  Global_Sales  \n",
       "0     41.49     29.02      3.77         8.46         82.74  \n",
       "1     29.08      3.58      6.81         0.77         40.24  \n",
       "2     15.85     12.88      3.79         3.31         35.82  \n",
       "3     15.75     11.01      3.28         2.96         33.00  \n",
       "4     11.27      8.89     10.22         1.00         31.37  "
      ]
     },
     "execution_count": 134,
     "metadata": {},
     "output_type": "execute_result"
    }
   ],
   "source": [
    "df = pd.read_csv(\"vgsales.csv\")\n",
    "df.head()"
   ]
  },
  {
   "cell_type": "code",
   "execution_count": 135,
   "metadata": {},
   "outputs": [
    {
     "data": {
      "text/html": [
       "<div>\n",
       "<style scoped>\n",
       "    .dataframe tbody tr th:only-of-type {\n",
       "        vertical-align: middle;\n",
       "    }\n",
       "\n",
       "    .dataframe tbody tr th {\n",
       "        vertical-align: top;\n",
       "    }\n",
       "\n",
       "    .dataframe thead th {\n",
       "        text-align: right;\n",
       "    }\n",
       "</style>\n",
       "<table border=\"1\" class=\"dataframe\">\n",
       "  <thead>\n",
       "    <tr style=\"text-align: right;\">\n",
       "      <th></th>\n",
       "      <th>Model</th>\n",
       "      <th>Company</th>\n",
       "      <th>Engine Type</th>\n",
       "      <th>HP or lbs thr ea engine</th>\n",
       "      <th>Max speed Knots</th>\n",
       "      <th>Rcmnd cruise Knots</th>\n",
       "      <th>Stall Knots dirty</th>\n",
       "      <th>Fuel_gal_over_lbs</th>\n",
       "      <th>All eng service ceiling</th>\n",
       "      <th>Eng out service ceiling</th>\n",
       "      <th>...</th>\n",
       "      <th>Takeoff_over_50ft</th>\n",
       "      <th>Takeoff ground run</th>\n",
       "      <th>Landing over 50ft</th>\n",
       "      <th>Landing ground roll</th>\n",
       "      <th>Gross weight lbs</th>\n",
       "      <th>Empty weight lbs</th>\n",
       "      <th>Length ft/in</th>\n",
       "      <th>Height ft/in</th>\n",
       "      <th>Wing span ft/in</th>\n",
       "      <th>Range N.M.</th>\n",
       "    </tr>\n",
       "  </thead>\n",
       "  <tbody>\n",
       "    <tr>\n",
       "      <th>0</th>\n",
       "      <td>15 AC Sedan</td>\n",
       "      <td>Aeronca</td>\n",
       "      <td>Piston</td>\n",
       "      <td>145</td>\n",
       "      <td>104</td>\n",
       "      <td>91</td>\n",
       "      <td>46</td>\n",
       "      <td>36.0</td>\n",
       "      <td>13000.0</td>\n",
       "      <td>NaN</td>\n",
       "      <td>...</td>\n",
       "      <td>900.0</td>\n",
       "      <td>NaN</td>\n",
       "      <td>1300.0</td>\n",
       "      <td>NaN</td>\n",
       "      <td>2050</td>\n",
       "      <td>1180</td>\n",
       "      <td>25/3</td>\n",
       "      <td>10/3</td>\n",
       "      <td>37/5</td>\n",
       "      <td>370</td>\n",
       "    </tr>\n",
       "    <tr>\n",
       "      <th>1</th>\n",
       "      <td>11 CC Super Chief</td>\n",
       "      <td>Aeronca</td>\n",
       "      <td>Piston</td>\n",
       "      <td>85</td>\n",
       "      <td>89</td>\n",
       "      <td>83</td>\n",
       "      <td>44</td>\n",
       "      <td>15.0</td>\n",
       "      <td>12300.0</td>\n",
       "      <td>NaN</td>\n",
       "      <td>...</td>\n",
       "      <td>720.0</td>\n",
       "      <td>NaN</td>\n",
       "      <td>800.0</td>\n",
       "      <td>NaN</td>\n",
       "      <td>1350</td>\n",
       "      <td>820</td>\n",
       "      <td>20/7</td>\n",
       "      <td>8/9</td>\n",
       "      <td>36/1</td>\n",
       "      <td>190</td>\n",
       "    </tr>\n",
       "    <tr>\n",
       "      <th>2</th>\n",
       "      <td>7 CCM Champ</td>\n",
       "      <td>Aeronca</td>\n",
       "      <td>Piston</td>\n",
       "      <td>90</td>\n",
       "      <td>90</td>\n",
       "      <td>78</td>\n",
       "      <td>37</td>\n",
       "      <td>19.0</td>\n",
       "      <td>16000.0</td>\n",
       "      <td>NaN</td>\n",
       "      <td>...</td>\n",
       "      <td>475.0</td>\n",
       "      <td>NaN</td>\n",
       "      <td>850.0</td>\n",
       "      <td>NaN</td>\n",
       "      <td>1300</td>\n",
       "      <td>810</td>\n",
       "      <td>21/5</td>\n",
       "      <td>8/7</td>\n",
       "      <td>35/0</td>\n",
       "      <td>210</td>\n",
       "    </tr>\n",
       "    <tr>\n",
       "      <th>3</th>\n",
       "      <td>7 DC Champ</td>\n",
       "      <td>Aeronca</td>\n",
       "      <td>Piston</td>\n",
       "      <td>85</td>\n",
       "      <td>88</td>\n",
       "      <td>78</td>\n",
       "      <td>37</td>\n",
       "      <td>19.0</td>\n",
       "      <td>13000.0</td>\n",
       "      <td>NaN</td>\n",
       "      <td>...</td>\n",
       "      <td>500.0</td>\n",
       "      <td>NaN</td>\n",
       "      <td>850.0</td>\n",
       "      <td>NaN</td>\n",
       "      <td>1300</td>\n",
       "      <td>800</td>\n",
       "      <td>21/5</td>\n",
       "      <td>8/7</td>\n",
       "      <td>35/0</td>\n",
       "      <td>210</td>\n",
       "    </tr>\n",
       "    <tr>\n",
       "      <th>4</th>\n",
       "      <td>7 AC Champ</td>\n",
       "      <td>Aeronca</td>\n",
       "      <td>Piston</td>\n",
       "      <td>65</td>\n",
       "      <td>83</td>\n",
       "      <td>74</td>\n",
       "      <td>33</td>\n",
       "      <td>14.0</td>\n",
       "      <td>12500.0</td>\n",
       "      <td>NaN</td>\n",
       "      <td>...</td>\n",
       "      <td>632.0</td>\n",
       "      <td>NaN</td>\n",
       "      <td>885.0</td>\n",
       "      <td>NaN</td>\n",
       "      <td>1220</td>\n",
       "      <td>740</td>\n",
       "      <td>21/5</td>\n",
       "      <td>8/9</td>\n",
       "      <td>35/0</td>\n",
       "      <td>175</td>\n",
       "    </tr>\n",
       "  </tbody>\n",
       "</table>\n",
       "<p>5 rows × 22 columns</p>\n",
       "</div>"
      ],
      "text/plain": [
       "               Model  Company Engine Type HP or lbs thr ea engine  \\\n",
       "0        15 AC Sedan  Aeronca      Piston                     145   \n",
       "1  11 CC Super Chief  Aeronca      Piston                      85   \n",
       "2        7 CCM Champ  Aeronca      Piston                      90   \n",
       "3         7 DC Champ  Aeronca      Piston                      85   \n",
       "4         7 AC Champ  Aeronca      Piston                      65   \n",
       "\n",
       "  Max speed Knots Rcmnd cruise Knots Stall Knots dirty  Fuel_gal_over_lbs  \\\n",
       "0             104                 91                46               36.0   \n",
       "1              89                 83                44               15.0   \n",
       "2              90                 78                37               19.0   \n",
       "3              88                 78                37               19.0   \n",
       "4              83                 74                33               14.0   \n",
       "\n",
       "   All eng service ceiling Eng out service ceiling  ... Takeoff_over_50ft  \\\n",
       "0                  13000.0                     NaN  ...             900.0   \n",
       "1                  12300.0                     NaN  ...             720.0   \n",
       "2                  16000.0                     NaN  ...             475.0   \n",
       "3                  13000.0                     NaN  ...             500.0   \n",
       "4                  12500.0                     NaN  ...             632.0   \n",
       "\n",
       "  Takeoff ground run  Landing over 50ft  Landing ground roll  \\\n",
       "0                NaN             1300.0                  NaN   \n",
       "1                NaN              800.0                  NaN   \n",
       "2                NaN              850.0                  NaN   \n",
       "3                NaN              850.0                  NaN   \n",
       "4                NaN              885.0                  NaN   \n",
       "\n",
       "   Gross weight lbs  Empty weight lbs Length ft/in Height ft/in  \\\n",
       "0              2050              1180         25/3         10/3   \n",
       "1              1350               820         20/7          8/9   \n",
       "2              1300               810         21/5          8/7   \n",
       "3              1300               800         21/5          8/7   \n",
       "4              1220               740         21/5          8/9   \n",
       "\n",
       "  Wing span ft/in Range N.M.  \n",
       "0            37/5        370  \n",
       "1            36/1        190  \n",
       "2            35/0        210  \n",
       "3            35/0        210  \n",
       "4            35/0        175  \n",
       "\n",
       "[5 rows x 22 columns]"
      ]
     },
     "execution_count": 135,
     "metadata": {},
     "output_type": "execute_result"
    }
   ],
   "source": [
    "df2 = pd.read_csv(\"airplane2.csv\")\n",
    "df2.head()\n",
    "#renamed some variables to better suit my code. i.e. Fuel gal/lbs -> Fuel_gal_over_lbs & Takeoff over 50ft -> Takeoff_over_50ft"
   ]
  },
  {
   "cell_type": "code",
   "execution_count": 136,
   "metadata": {},
   "outputs": [],
   "source": [
    "df[\"log_Global_Sales\"] = np.log(df[\"Global_Sales\"])\n"
   ]
  },
  {
   "cell_type": "markdown",
   "metadata": {},
   "source": [
    "For my os models I choose the y values as the intercept and the x values for my slope. Reason why I chose this is because x determines the slope of a graph and y determines the intercept."
   ]
  },
  {
   "cell_type": "code",
   "execution_count": 137,
   "metadata": {},
   "outputs": [
    {
     "data": {
      "text/html": [
       "<table class=\"simpletable\">\n",
       "<caption>OLS Regression Results</caption>\n",
       "<tr>\n",
       "  <th>Dep. Variable:</th>        <td>NA_Sales</td>     <th>  R-squared:         </th> <td>   0.250</td> \n",
       "</tr>\n",
       "<tr>\n",
       "  <th>Model:</th>                   <td>OLS</td>       <th>  Adj. R-squared:    </th> <td>   0.250</td> \n",
       "</tr>\n",
       "<tr>\n",
       "  <th>Method:</th>             <td>Least Squares</td>  <th>  F-statistic:       </th> <td>   5520.</td> \n",
       "</tr>\n",
       "<tr>\n",
       "  <th>Date:</th>             <td>Tue, 17 Oct 2023</td> <th>  Prob (F-statistic):</th>  <td>  0.00</td>  \n",
       "</tr>\n",
       "<tr>\n",
       "  <th>Time:</th>                 <td>23:38:24</td>     <th>  Log-Likelihood:    </th> <td> -17807.</td> \n",
       "</tr>\n",
       "<tr>\n",
       "  <th>No. Observations:</th>      <td> 16598</td>      <th>  AIC:               </th> <td>3.562e+04</td>\n",
       "</tr>\n",
       "<tr>\n",
       "  <th>Df Residuals:</th>          <td> 16596</td>      <th>  BIC:               </th> <td>3.563e+04</td>\n",
       "</tr>\n",
       "<tr>\n",
       "  <th>Df Model:</th>              <td>     1</td>      <th>                     </th>     <td> </td>    \n",
       "</tr>\n",
       "<tr>\n",
       "  <th>Covariance Type:</th>      <td>nonrobust</td>    <th>                     </th>     <td> </td>    \n",
       "</tr>\n",
       "</table>\n",
       "<table class=\"simpletable\">\n",
       "<tr>\n",
       "          <td></td>            <th>coef</th>     <th>std err</th>      <th>t</th>      <th>P>|t|</th>  <th>[0.025</th>    <th>0.975]</th>  \n",
       "</tr>\n",
       "<tr>\n",
       "  <th>Intercept</th>        <td>    0.7503</td> <td>    0.009</td> <td>   87.886</td> <td> 0.000</td> <td>    0.734</td> <td>    0.767</td>\n",
       "</tr>\n",
       "<tr>\n",
       "  <th>log_Global_Sales</th> <td>    0.2791</td> <td>    0.004</td> <td>   74.294</td> <td> 0.000</td> <td>    0.272</td> <td>    0.286</td>\n",
       "</tr>\n",
       "</table>\n",
       "<table class=\"simpletable\">\n",
       "<tr>\n",
       "  <th>Omnibus:</th>       <td>38783.763</td> <th>  Durbin-Watson:     </th>   <td>   0.347</td>   \n",
       "</tr>\n",
       "<tr>\n",
       "  <th>Prob(Omnibus):</th>  <td> 0.000</td>   <th>  Jarque-Bera (JB):  </th> <td>599799306.519</td>\n",
       "</tr>\n",
       "<tr>\n",
       "  <th>Skew:</th>           <td>22.994</td>   <th>  Prob(JB):          </th>   <td>    0.00</td>   \n",
       "</tr>\n",
       "<tr>\n",
       "  <th>Kurtosis:</th>       <td>933.145</td>  <th>  Cond. No.          </th>   <td>    3.97</td>   \n",
       "</tr>\n",
       "</table><br/><br/>Notes:<br/>[1] Standard Errors assume that the covariance matrix of the errors is correctly specified."
      ],
      "text/plain": [
       "<class 'statsmodels.iolib.summary.Summary'>\n",
       "\"\"\"\n",
       "                            OLS Regression Results                            \n",
       "==============================================================================\n",
       "Dep. Variable:               NA_Sales   R-squared:                       0.250\n",
       "Model:                            OLS   Adj. R-squared:                  0.250\n",
       "Method:                 Least Squares   F-statistic:                     5520.\n",
       "Date:                Tue, 17 Oct 2023   Prob (F-statistic):               0.00\n",
       "Time:                        23:38:24   Log-Likelihood:                -17807.\n",
       "No. Observations:               16598   AIC:                         3.562e+04\n",
       "Df Residuals:                   16596   BIC:                         3.563e+04\n",
       "Df Model:                           1                                         \n",
       "Covariance Type:            nonrobust                                         \n",
       "====================================================================================\n",
       "                       coef    std err          t      P>|t|      [0.025      0.975]\n",
       "------------------------------------------------------------------------------------\n",
       "Intercept            0.7503      0.009     87.886      0.000       0.734       0.767\n",
       "log_Global_Sales     0.2791      0.004     74.294      0.000       0.272       0.286\n",
       "==============================================================================\n",
       "Omnibus:                    38783.763   Durbin-Watson:                   0.347\n",
       "Prob(Omnibus):                  0.000   Jarque-Bera (JB):        599799306.519\n",
       "Skew:                          22.994   Prob(JB):                         0.00\n",
       "Kurtosis:                     933.145   Cond. No.                         3.97\n",
       "==============================================================================\n",
       "\n",
       "Notes:\n",
       "[1] Standard Errors assume that the covariance matrix of the errors is correctly specified.\n",
       "\"\"\""
      ]
     },
     "execution_count": 137,
     "metadata": {},
     "output_type": "execute_result"
    }
   ],
   "source": [
    "df_ols = smf.ols('NA_Sales~ 1 + log_Global_Sales', data = df)\n",
    "df_fit = df_ols.fit()\n",
    "df_fit.summary()"
   ]
  },
  {
   "cell_type": "code",
   "execution_count": 138,
   "metadata": {},
   "outputs": [
    {
     "name": "stdout",
     "output_type": "stream",
     "text": [
      "The intercept is 0.7503225817450765\n",
      "and the slope of global is 0.27908259308103467\n"
     ]
    }
   ],
   "source": [
    "fit_intercept = df_fit.params[\"Intercept\"]\n",
    "fit_logglobal_slope = df_fit.params[\"log_Global_Sales\"]\n",
    "\n",
    "print(f\"The intercept is {fit_intercept}\\nand the slope of global is {fit_logglobal_slope}\")"
   ]
  },
  {
   "cell_type": "code",
   "execution_count": 139,
   "metadata": {},
   "outputs": [
    {
     "data": {
      "text/plain": [
       "<matplotlib.lines._AxLine at 0x217003580a0>"
      ]
     },
     "execution_count": 139,
     "metadata": {},
     "output_type": "execute_result"
    },
    {
     "data": {
      "image/png": "[encoded data removed]",
      "text/plain": [
       "<Figure size 432x288 with 1 Axes>"
      ]
     },
     "metadata": {
      "needs_background": "light"
     },
     "output_type": "display_data"
    }
   ],
   "source": [
    "sns.scatterplot(data= df, x=\"log_Global_Sales\", y=\"NA_Sales\")\n",
    "plt.axline([0, fit_intercept], slope = fit_logglobal_slope)"
   ]
  },
  {
   "cell_type": "code",
   "execution_count": 140,
   "metadata": {},
   "outputs": [],
   "source": [
    "predicted_ys = fit_intercept + (fit_logglobal_slope * df[\"log_Global_Sales\"])\n"
   ]
  },
  {
   "cell_type": "code",
   "execution_count": 141,
   "metadata": {},
   "outputs": [
    {
     "data": {
      "text/plain": [
       "<matplotlib.lines._AxLine at 0x21701d8a670>"
      ]
     },
     "execution_count": 141,
     "metadata": {},
     "output_type": "execute_result"
    },
    {
     "data": {
      "image/png": "[encoded data removed]",
      "text/plain": [
       "<Figure size 432x288 with 1 Axes>"
      ]
     },
     "metadata": {
      "needs_background": "light"
     },
     "output_type": "display_data"
    }
   ],
   "source": [
    "sns.scatterplot(data= df, x=\"log_Global_Sales\", y=\"NA_Sales\")\n",
    "plt.axline([0, fit_intercept], slope = fit_logglobal_slope)"
   ]
  },
  {
   "cell_type": "code",
   "execution_count": 142,
   "metadata": {},
   "outputs": [
    {
     "data": {
      "text/html": [
       "<table class=\"simpletable\">\n",
       "<caption>OLS Regression Results</caption>\n",
       "<tr>\n",
       "  <th>Dep. Variable:</th>    <td>Takeoff_over_50ft</td> <th>  R-squared:         </th> <td>   0.564</td> \n",
       "</tr>\n",
       "<tr>\n",
       "  <th>Model:</th>                   <td>OLS</td>        <th>  Adj. R-squared:    </th> <td>   0.563</td> \n",
       "</tr>\n",
       "<tr>\n",
       "  <th>Method:</th>             <td>Least Squares</td>   <th>  F-statistic:       </th> <td>   880.1</td> \n",
       "</tr>\n",
       "<tr>\n",
       "  <th>Date:</th>             <td>Tue, 17 Oct 2023</td>  <th>  Prob (F-statistic):</th> <td>8.49e-125</td>\n",
       "</tr>\n",
       "<tr>\n",
       "  <th>Time:</th>                 <td>23:38:24</td>      <th>  Log-Likelihood:    </th> <td> -5493.3</td> \n",
       "</tr>\n",
       "<tr>\n",
       "  <th>No. Observations:</th>      <td>   683</td>       <th>  AIC:               </th> <td>1.099e+04</td>\n",
       "</tr>\n",
       "<tr>\n",
       "  <th>Df Residuals:</th>          <td>   681</td>       <th>  BIC:               </th> <td>1.100e+04</td>\n",
       "</tr>\n",
       "<tr>\n",
       "  <th>Df Model:</th>              <td>     1</td>       <th>                     </th>     <td> </td>    \n",
       "</tr>\n",
       "<tr>\n",
       "  <th>Covariance Type:</th>      <td>nonrobust</td>     <th>                     </th>     <td> </td>    \n",
       "</tr>\n",
       "</table>\n",
       "<table class=\"simpletable\">\n",
       "<tr>\n",
       "          <td></td>             <th>coef</th>     <th>std err</th>      <th>t</th>      <th>P>|t|</th>  <th>[0.025</th>    <th>0.975]</th>  \n",
       "</tr>\n",
       "<tr>\n",
       "  <th>Intercept</th>         <td> 1722.7548</td> <td>   30.340</td> <td>   56.781</td> <td> 0.000</td> <td> 1663.183</td> <td> 1782.326</td>\n",
       "</tr>\n",
       "<tr>\n",
       "  <th>Fuel_gal_over_lbs</th> <td>    0.2178</td> <td>    0.007</td> <td>   29.667</td> <td> 0.000</td> <td>    0.203</td> <td>    0.232</td>\n",
       "</tr>\n",
       "</table>\n",
       "<table class=\"simpletable\">\n",
       "<tr>\n",
       "  <th>Omnibus:</th>       <td>69.041</td> <th>  Durbin-Watson:     </th> <td>   0.624</td>\n",
       "</tr>\n",
       "<tr>\n",
       "  <th>Prob(Omnibus):</th> <td> 0.000</td> <th>  Jarque-Bera (JB):  </th> <td> 395.816</td>\n",
       "</tr>\n",
       "<tr>\n",
       "  <th>Skew:</th>          <td> 0.195</td> <th>  Prob(JB):          </th> <td>1.12e-86</td>\n",
       "</tr>\n",
       "<tr>\n",
       "  <th>Kurtosis:</th>      <td> 6.709</td> <th>  Cond. No.          </th> <td>4.35e+03</td>\n",
       "</tr>\n",
       "</table><br/><br/>Notes:<br/>[1] Standard Errors assume that the covariance matrix of the errors is correctly specified.<br/>[2] The condition number is large, 4.35e+03. This might indicate that there are<br/>strong multicollinearity or other numerical problems."
      ],
      "text/plain": [
       "<class 'statsmodels.iolib.summary.Summary'>\n",
       "\"\"\"\n",
       "                            OLS Regression Results                            \n",
       "==============================================================================\n",
       "Dep. Variable:      Takeoff_over_50ft   R-squared:                       0.564\n",
       "Model:                            OLS   Adj. R-squared:                  0.563\n",
       "Method:                 Least Squares   F-statistic:                     880.1\n",
       "Date:                Tue, 17 Oct 2023   Prob (F-statistic):          8.49e-125\n",
       "Time:                        23:38:24   Log-Likelihood:                -5493.3\n",
       "No. Observations:                 683   AIC:                         1.099e+04\n",
       "Df Residuals:                     681   BIC:                         1.100e+04\n",
       "Df Model:                           1                                         \n",
       "Covariance Type:            nonrobust                                         \n",
       "=====================================================================================\n",
       "                        coef    std err          t      P>|t|      [0.025      0.975]\n",
       "-------------------------------------------------------------------------------------\n",
       "Intercept          1722.7548     30.340     56.781      0.000    1663.183    1782.326\n",
       "Fuel_gal_over_lbs     0.2178      0.007     29.667      0.000       0.203       0.232\n",
       "==============================================================================\n",
       "Omnibus:                       69.041   Durbin-Watson:                   0.624\n",
       "Prob(Omnibus):                  0.000   Jarque-Bera (JB):              395.816\n",
       "Skew:                           0.195   Prob(JB):                     1.12e-86\n",
       "Kurtosis:                       6.709   Cond. No.                     4.35e+03\n",
       "==============================================================================\n",
       "\n",
       "Notes:\n",
       "[1] Standard Errors assume that the covariance matrix of the errors is correctly specified.\n",
       "[2] The condition number is large, 4.35e+03. This might indicate that there are\n",
       "strong multicollinearity or other numerical problems.\n",
       "\"\"\""
      ]
     },
     "execution_count": 142,
     "metadata": {},
     "output_type": "execute_result"
    }
   ],
   "source": [
    "df2_ols = smf.ols('Takeoff_over_50ft ~ 1 + Fuel_gal_over_lbs', data = df2)\n",
    "df2_fit = df2_ols.fit()\n",
    "df2_fit.summary()"
   ]
  },
  {
   "cell_type": "code",
   "execution_count": 143,
   "metadata": {},
   "outputs": [
    {
     "name": "stdout",
     "output_type": "stream",
     "text": [
      "the intercept is 1722.7547578689619\n",
      "and the slope of fuel is 0.217790684254559\n"
     ]
    }
   ],
   "source": [
    "fit_intercept2 = df2_fit.params[\"Intercept\"]\n",
    "fit_fuel = df2_fit.params[\"Fuel_gal_over_lbs\"]\n",
    "\n",
    "print(f\"the intercept is {fit_intercept2}\\nand the slope of fuel is {fit_fuel}\")"
   ]
  },
  {
   "cell_type": "code",
   "execution_count": 144,
   "metadata": {},
   "outputs": [
    {
     "data": {
      "text/plain": [
       "<matplotlib.lines._AxLine at 0x217017d9f10>"
      ]
     },
     "execution_count": 144,
     "metadata": {},
     "output_type": "execute_result"
    },
    {
     "data": {
      "image/png": "[encoded data removed]",
      "text/plain": [
       "<Figure size 432x288 with 1 Axes>"
      ]
     },
     "metadata": {
      "needs_background": "light"
     },
     "output_type": "display_data"
    }
   ],
   "source": [
    "sns.scatterplot(data= df2, x=\"Fuel_gal_over_lbs\", y=\"Takeoff_over_50ft\")\n",
    "plt.axline([0, fit_intercept2], slope = fit_fuel)"
   ]
  },
  {
   "cell_type": "code",
   "execution_count": 145,
   "metadata": {},
   "outputs": [],
   "source": [
    "predicted_ys2 = fit_intercept2 + (fit_fuel * df2[\"Fuel_gal_over_lbs\"])"
   ]
  },
  {
   "cell_type": "code",
   "execution_count": 146,
   "metadata": {},
   "outputs": [
    {
     "data": {
      "text/plain": [
       "<matplotlib.lines._AxLine at 0x217017b8a90>"
      ]
     },
     "execution_count": 146,
     "metadata": {},
     "output_type": "execute_result"
    },
    {
     "data": {
      "image/png": "[encoded data removed]",
      "text/plain": [
       "<Figure size 432x288 with 1 Axes>"
      ]
     },
     "metadata": {
      "needs_background": "light"
     },
     "output_type": "display_data"
    }
   ],
   "source": [
    "sns.scatterplot(data= df2, x=\"Fuel_gal_over_lbs\", y=\"Takeoff_over_50ft\")\n",
    "plt.axline([0, fit_intercept2], slope = fit_fuel)"
   ]
  },
  {
   "cell_type": "markdown",
   "metadata": {},
   "source": [
    "____________________________________________________________________________________________________________________________________________________________"
   ]
  },
  {
   "cell_type": "code",
   "execution_count": 147,
   "metadata": {},
   "outputs": [
    {
     "name": "stdout",
     "output_type": "stream",
     "text": [
      "0.5004799701766887\n"
     ]
    }
   ],
   "source": [
    "mse_fit1 = ((df[\"NA_Sales\"] - predicted_ys)**2).mean()\n",
    "print(mse_fit1)"
   ]
  },
  {
   "cell_type": "code",
   "execution_count": 148,
   "metadata": {},
   "outputs": [
    {
     "name": "stdout",
     "output_type": "stream",
     "text": [
      "8.95499680994709\n"
     ]
    }
   ],
   "source": [
    "adjustment_to_intercept = .1 \n",
    "adjusted_intercept = fit_intercept + adjustment_to_intercept\n",
    "predictions = adjusted_intercept + (fit_logglobal_slope * df[\"NA_Sales\"]) \n",
    "MSE_after_adjustments = ((df[\"log_Global_Sales\"] - predictions)**2).mean()\n",
    "print(MSE_after_adjustments)"
   ]
  },
  {
   "cell_type": "code",
   "execution_count": 149,
   "metadata": {},
   "outputs": [
    {
     "name": "stdout",
     "output_type": "stream",
     "text": [
      "7.929248420963838\n"
     ]
    }
   ],
   "source": [
    "adjustment_to_intercept2 = -.1 \n",
    "\n",
    "adjusted_intercept2 = fit_intercept + adjustment_to_intercept2\n",
    "predictions2 = adjusted_intercept2 + (fit_logglobal_slope * df[\"NA_Sales\"]) \n",
    "MSE_after_adjustments2 = ((df[\"log_Global_Sales\"] - predictions2)**2).mean()\n",
    "print(MSE_after_adjustments2)"
   ]
  },
  {
   "cell_type": "code",
   "execution_count": 150,
   "metadata": {},
   "outputs": [
    {
     "name": "stdout",
     "output_type": "stream",
     "text": [
      "8.493174861594792\n"
     ]
    }
   ],
   "source": [
    "adjustment_to_slope = .1 \n",
    "adjusted_slope = fit_logglobal_slope + adjustment_to_slope\n",
    "\n",
    "predictions3 = fit_intercept + (adjusted_slope * df[\"NA_Sales\"]) \n",
    "MSE_after_adjustments3 = ((df[\"log_Global_Sales\"] - predictions3)**2).mean()\n",
    "print(MSE_after_adjustments3)"
   ]
  },
  {
   "cell_type": "code",
   "execution_count": 151,
   "metadata": {},
   "outputs": [
    {
     "name": "stdout",
     "output_type": "stream",
     "text": [
      "8.385809966013511\n"
     ]
    }
   ],
   "source": [
    "adjustment_to_slope2 = -0.1 \n",
    "adjusted_slope2 = fit_logglobal_slope + adjustment_to_slope2\n",
    "\n",
    "predictions4 = fit_intercept + (adjusted_slope2 * df[\"NA_Sales\"]) \n",
    "MSE_after_adjustments4= ((df[\"log_Global_Sales\"] - predictions4)**2).mean()\n",
    "print(MSE_after_adjustments4)"
   ]
  },
  {
   "cell_type": "code",
   "execution_count": 152,
   "metadata": {},
   "outputs": [
    {
     "name": "stdout",
     "output_type": "stream",
     "text": [
      "9.021342404683176\n"
     ]
    }
   ],
   "source": [
    "adjustment_to_intercept_final = 0.1 # change this value up or down from zero to see the impact on MSE\n",
    "adjustment_to_slope_final = 0.1 # change this value up or down from zero to see the impact on MSE\n",
    "\n",
    "adjusted_intercept_final = fit_intercept + adjustment_to_intercept_final\n",
    "adjusted_slope_final = fit_logglobal_slope + adjustment_to_slope_final\n",
    "\n",
    "predictions_final = adjusted_intercept_final + (adjusted_slope_final * df[\"NA_Sales\"]) # predictions from linear equation\n",
    "MSE_after_adjustments_final = ((df[\"log_Global_Sales\"] - predictions_final)**2).mean()\n",
    "print(MSE_after_adjustments_final)"
   ]
  },
  {
   "cell_type": "code",
   "execution_count": 153,
   "metadata": {},
   "outputs": [
    {
     "data": {
      "text/plain": [
       "<matplotlib.lines._AxLine at 0x2170190ea00>"
      ]
     },
     "execution_count": 153,
     "metadata": {},
     "output_type": "execute_result"
    },
    {
     "data": {
      "image/png": "[encoded data removed]",
      "text/plain": [
       "<Figure size 432x288 with 1 Axes>"
      ]
     },
     "metadata": {
      "needs_background": "light"
     },
     "output_type": "display_data"
    }
   ],
   "source": [
    "sns.scatterplot(data= df, x=\"log_Global_Sales\", y=\"NA_Sales\")\n",
    "plt.axline([0, adjusted_intercept], slope = fit_logglobal_slope, color = \"gray\")\n",
    "plt.axline([0, adjusted_intercept2], slope = fit_logglobal_slope, color = \"blue\")\n",
    "plt.axline([0, fit_intercept], slope = adjusted_slope, color = \"green\")\n",
    "plt.axline([0, fit_intercept], slope = adjusted_slope2, color = \"black\")\n",
    "plt.axline([0, adjusted_intercept_final], slope = adjusted_slope_final, color = \"red\")"
   ]
  },
  {
   "cell_type": "markdown",
   "metadata": {},
   "source": [
    "____________________________________________________________________________________________________________________________________________________________"
   ]
  },
  {
   "cell_type": "markdown",
   "metadata": {},
   "source": [
    "https://www.kaggle.com/datasets/rajanand/rainfall-in-india\n",
    "The dataset I plan on using is the rainfall in India thorughout the months. Provided by Ross Zaslavsky"
   ]
  },
  {
   "cell_type": "code",
   "execution_count": 156,
   "metadata": {},
   "outputs": [
    {
     "data": {
      "text/html": [
       "<div>\n",
       "<style scoped>\n",
       "    .dataframe tbody tr th:only-of-type {\n",
       "        vertical-align: middle;\n",
       "    }\n",
       "\n",
       "    .dataframe tbody tr th {\n",
       "        vertical-align: top;\n",
       "    }\n",
       "\n",
       "    .dataframe thead th {\n",
       "        text-align: right;\n",
       "    }\n",
       "</style>\n",
       "<table border=\"1\" class=\"dataframe\">\n",
       "  <thead>\n",
       "    <tr style=\"text-align: right;\">\n",
       "      <th></th>\n",
       "      <th>STATE_UT_NAME</th>\n",
       "      <th>DISTRICT</th>\n",
       "      <th>JAN</th>\n",
       "      <th>FEB</th>\n",
       "      <th>MAR</th>\n",
       "      <th>APR</th>\n",
       "      <th>MAY</th>\n",
       "      <th>JUN</th>\n",
       "      <th>JUL</th>\n",
       "      <th>AUG</th>\n",
       "      <th>SEP</th>\n",
       "      <th>OCT</th>\n",
       "      <th>NOV</th>\n",
       "      <th>DEC</th>\n",
       "      <th>ANNUAL</th>\n",
       "      <th>Jan-Feb</th>\n",
       "      <th>Mar-May</th>\n",
       "      <th>Jun-Sep</th>\n",
       "      <th>Oct-Dec</th>\n",
       "    </tr>\n",
       "  </thead>\n",
       "  <tbody>\n",
       "    <tr>\n",
       "      <th>0</th>\n",
       "      <td>ANDAMAN And NICOBAR ISLANDS</td>\n",
       "      <td>NICOBAR</td>\n",
       "      <td>107.3</td>\n",
       "      <td>57.9</td>\n",
       "      <td>65.2</td>\n",
       "      <td>117.0</td>\n",
       "      <td>358.5</td>\n",
       "      <td>295.5</td>\n",
       "      <td>285.0</td>\n",
       "      <td>271.9</td>\n",
       "      <td>354.8</td>\n",
       "      <td>326.0</td>\n",
       "      <td>315.2</td>\n",
       "      <td>250.9</td>\n",
       "      <td>2805.2</td>\n",
       "      <td>165.2</td>\n",
       "      <td>540.7</td>\n",
       "      <td>1207.2</td>\n",
       "      <td>892.1</td>\n",
       "    </tr>\n",
       "    <tr>\n",
       "      <th>1</th>\n",
       "      <td>ANDAMAN And NICOBAR ISLANDS</td>\n",
       "      <td>SOUTH ANDAMAN</td>\n",
       "      <td>43.7</td>\n",
       "      <td>26.0</td>\n",
       "      <td>18.6</td>\n",
       "      <td>90.5</td>\n",
       "      <td>374.4</td>\n",
       "      <td>457.2</td>\n",
       "      <td>421.3</td>\n",
       "      <td>423.1</td>\n",
       "      <td>455.6</td>\n",
       "      <td>301.2</td>\n",
       "      <td>275.8</td>\n",
       "      <td>128.3</td>\n",
       "      <td>3015.7</td>\n",
       "      <td>69.7</td>\n",
       "      <td>483.5</td>\n",
       "      <td>1757.2</td>\n",
       "      <td>705.3</td>\n",
       "    </tr>\n",
       "    <tr>\n",
       "      <th>2</th>\n",
       "      <td>ANDAMAN And NICOBAR ISLANDS</td>\n",
       "      <td>N &amp; M ANDAMAN</td>\n",
       "      <td>32.7</td>\n",
       "      <td>15.9</td>\n",
       "      <td>8.6</td>\n",
       "      <td>53.4</td>\n",
       "      <td>343.6</td>\n",
       "      <td>503.3</td>\n",
       "      <td>465.4</td>\n",
       "      <td>460.9</td>\n",
       "      <td>454.8</td>\n",
       "      <td>276.1</td>\n",
       "      <td>198.6</td>\n",
       "      <td>100.0</td>\n",
       "      <td>2913.3</td>\n",
       "      <td>48.6</td>\n",
       "      <td>405.6</td>\n",
       "      <td>1884.4</td>\n",
       "      <td>574.7</td>\n",
       "    </tr>\n",
       "    <tr>\n",
       "      <th>3</th>\n",
       "      <td>ARUNACHAL PRADESH</td>\n",
       "      <td>LOHIT</td>\n",
       "      <td>42.2</td>\n",
       "      <td>80.8</td>\n",
       "      <td>176.4</td>\n",
       "      <td>358.5</td>\n",
       "      <td>306.4</td>\n",
       "      <td>447.0</td>\n",
       "      <td>660.1</td>\n",
       "      <td>427.8</td>\n",
       "      <td>313.6</td>\n",
       "      <td>167.1</td>\n",
       "      <td>34.1</td>\n",
       "      <td>29.8</td>\n",
       "      <td>3043.8</td>\n",
       "      <td>123.0</td>\n",
       "      <td>841.3</td>\n",
       "      <td>1848.5</td>\n",
       "      <td>231.0</td>\n",
       "    </tr>\n",
       "    <tr>\n",
       "      <th>4</th>\n",
       "      <td>ARUNACHAL PRADESH</td>\n",
       "      <td>EAST SIANG</td>\n",
       "      <td>33.3</td>\n",
       "      <td>79.5</td>\n",
       "      <td>105.9</td>\n",
       "      <td>216.5</td>\n",
       "      <td>323.0</td>\n",
       "      <td>738.3</td>\n",
       "      <td>990.9</td>\n",
       "      <td>711.2</td>\n",
       "      <td>568.0</td>\n",
       "      <td>206.9</td>\n",
       "      <td>29.5</td>\n",
       "      <td>31.7</td>\n",
       "      <td>4034.7</td>\n",
       "      <td>112.8</td>\n",
       "      <td>645.4</td>\n",
       "      <td>3008.4</td>\n",
       "      <td>268.1</td>\n",
       "    </tr>\n",
       "  </tbody>\n",
       "</table>\n",
       "</div>"
      ],
      "text/plain": [
       "                 STATE_UT_NAME       DISTRICT    JAN   FEB    MAR    APR  \\\n",
       "0  ANDAMAN And NICOBAR ISLANDS        NICOBAR  107.3  57.9   65.2  117.0   \n",
       "1  ANDAMAN And NICOBAR ISLANDS  SOUTH ANDAMAN   43.7  26.0   18.6   90.5   \n",
       "2  ANDAMAN And NICOBAR ISLANDS  N & M ANDAMAN   32.7  15.9    8.6   53.4   \n",
       "3            ARUNACHAL PRADESH          LOHIT   42.2  80.8  176.4  358.5   \n",
       "4            ARUNACHAL PRADESH     EAST SIANG   33.3  79.5  105.9  216.5   \n",
       "\n",
       "     MAY    JUN    JUL    AUG    SEP    OCT    NOV    DEC  ANNUAL  Jan-Feb  \\\n",
       "0  358.5  295.5  285.0  271.9  354.8  326.0  315.2  250.9  2805.2    165.2   \n",
       "1  374.4  457.2  421.3  423.1  455.6  301.2  275.8  128.3  3015.7     69.7   \n",
       "2  343.6  503.3  465.4  460.9  454.8  276.1  198.6  100.0  2913.3     48.6   \n",
       "3  306.4  447.0  660.1  427.8  313.6  167.1   34.1   29.8  3043.8    123.0   \n",
       "4  323.0  738.3  990.9  711.2  568.0  206.9   29.5   31.7  4034.7    112.8   \n",
       "\n",
       "   Mar-May  Jun-Sep  Oct-Dec  \n",
       "0    540.7   1207.2    892.1  \n",
       "1    483.5   1757.2    705.3  \n",
       "2    405.6   1884.4    574.7  \n",
       "3    841.3   1848.5    231.0  \n",
       "4    645.4   3008.4    268.1  "
      ]
     },
     "execution_count": 156,
     "metadata": {},
     "output_type": "execute_result"
    }
   ],
   "source": [
    "df3= pd.read_csv(\"district wise rainfall normal.csv\")\n",
    "df3.head()"
   ]
  },
  {
   "cell_type": "code",
   "execution_count": 158,
   "metadata": {},
   "outputs": [
    {
     "data": {
      "text/plain": [
       "<AxesSubplot:xlabel='ANNUAL', ylabel='JAN'>"
      ]
     },
     "execution_count": 158,
     "metadata": {},
     "output_type": "execute_result"
    },
    {
     "data": {
      "image/png": "[encoded data removed]",
      "text/plain": [
       "<Figure size 432x288 with 1 Axes>"
      ]
     },
     "metadata": {
      "needs_background": "light"
     },
     "output_type": "display_data"
    }
   ],
   "source": [
    "sns.scatterplot(data= df3, x=\"ANNUAL\", y=\"JAN\")"
   ]
  },
  {
   "cell_type": "code",
   "execution_count": 160,
   "metadata": {},
   "outputs": [
    {
     "data": {
      "text/html": [
       "<table class=\"simpletable\">\n",
       "<caption>OLS Regression Results</caption>\n",
       "<tr>\n",
       "  <th>Dep. Variable:</th>           <td>JAN</td>       <th>  R-squared:         </th> <td>   0.027</td>\n",
       "</tr>\n",
       "<tr>\n",
       "  <th>Model:</th>                   <td>OLS</td>       <th>  Adj. R-squared:    </th> <td>   0.025</td>\n",
       "</tr>\n",
       "<tr>\n",
       "  <th>Method:</th>             <td>Least Squares</td>  <th>  F-statistic:       </th> <td>   17.46</td>\n",
       "</tr>\n",
       "<tr>\n",
       "  <th>Date:</th>             <td>Wed, 18 Oct 2023</td> <th>  Prob (F-statistic):</th> <td>3.35e-05</td>\n",
       "</tr>\n",
       "<tr>\n",
       "  <th>Time:</th>                 <td>01:36:48</td>     <th>  Log-Likelihood:    </th> <td> -2854.5</td>\n",
       "</tr>\n",
       "<tr>\n",
       "  <th>No. Observations:</th>      <td>   641</td>      <th>  AIC:               </th> <td>   5713.</td>\n",
       "</tr>\n",
       "<tr>\n",
       "  <th>Df Residuals:</th>          <td>   639</td>      <th>  BIC:               </th> <td>   5722.</td>\n",
       "</tr>\n",
       "<tr>\n",
       "  <th>Df Model:</th>              <td>     1</td>      <th>                     </th>     <td> </td>   \n",
       "</tr>\n",
       "<tr>\n",
       "  <th>Covariance Type:</th>      <td>nonrobust</td>    <th>                     </th>     <td> </td>   \n",
       "</tr>\n",
       "</table>\n",
       "<table class=\"simpletable\">\n",
       "<tr>\n",
       "      <td></td>         <th>coef</th>     <th>std err</th>      <th>t</th>      <th>P>|t|</th>  <th>[0.025</th>    <th>0.975]</th>  \n",
       "</tr>\n",
       "<tr>\n",
       "  <th>Intercept</th> <td>   12.8348</td> <td>    1.556</td> <td>    8.248</td> <td> 0.000</td> <td>    9.779</td> <td>   15.891</td>\n",
       "</tr>\n",
       "<tr>\n",
       "  <th>ANNUAL</th>    <td>    0.0041</td> <td>    0.001</td> <td>    4.178</td> <td> 0.000</td> <td>    0.002</td> <td>    0.006</td>\n",
       "</tr>\n",
       "</table>\n",
       "<table class=\"simpletable\">\n",
       "<tr>\n",
       "  <th>Omnibus:</th>       <td>413.149</td> <th>  Durbin-Watson:     </th> <td>   0.632</td>\n",
       "</tr>\n",
       "<tr>\n",
       "  <th>Prob(Omnibus):</th> <td> 0.000</td>  <th>  Jarque-Bera (JB):  </th> <td>3672.628</td>\n",
       "</tr>\n",
       "<tr>\n",
       "  <th>Skew:</th>          <td> 2.868</td>  <th>  Prob(JB):          </th> <td>    0.00</td>\n",
       "</tr>\n",
       "<tr>\n",
       "  <th>Kurtosis:</th>      <td>13.227</td>  <th>  Cond. No.          </th> <td>3.00e+03</td>\n",
       "</tr>\n",
       "</table><br/><br/>Notes:<br/>[1] Standard Errors assume that the covariance matrix of the errors is correctly specified.<br/>[2] The condition number is large,  3e+03. This might indicate that there are<br/>strong multicollinearity or other numerical problems."
      ],
      "text/plain": [
       "<class 'statsmodels.iolib.summary.Summary'>\n",
       "\"\"\"\n",
       "                            OLS Regression Results                            \n",
       "==============================================================================\n",
       "Dep. Variable:                    JAN   R-squared:                       0.027\n",
       "Model:                            OLS   Adj. R-squared:                  0.025\n",
       "Method:                 Least Squares   F-statistic:                     17.46\n",
       "Date:                Wed, 18 Oct 2023   Prob (F-statistic):           3.35e-05\n",
       "Time:                        01:36:48   Log-Likelihood:                -2854.5\n",
       "No. Observations:                 641   AIC:                             5713.\n",
       "Df Residuals:                     639   BIC:                             5722.\n",
       "Df Model:                           1                                         \n",
       "Covariance Type:            nonrobust                                         \n",
       "==============================================================================\n",
       "                 coef    std err          t      P>|t|      [0.025      0.975]\n",
       "------------------------------------------------------------------------------\n",
       "Intercept     12.8348      1.556      8.248      0.000       9.779      15.891\n",
       "ANNUAL         0.0041      0.001      4.178      0.000       0.002       0.006\n",
       "==============================================================================\n",
       "Omnibus:                      413.149   Durbin-Watson:                   0.632\n",
       "Prob(Omnibus):                  0.000   Jarque-Bera (JB):             3672.628\n",
       "Skew:                           2.868   Prob(JB):                         0.00\n",
       "Kurtosis:                      13.227   Cond. No.                     3.00e+03\n",
       "==============================================================================\n",
       "\n",
       "Notes:\n",
       "[1] Standard Errors assume that the covariance matrix of the errors is correctly specified.\n",
       "[2] The condition number is large,  3e+03. This might indicate that there are\n",
       "strong multicollinearity or other numerical problems.\n",
       "\"\"\""
      ]
     },
     "execution_count": 160,
     "metadata": {},
     "output_type": "execute_result"
    }
   ],
   "source": [
    "df3_ols = smf.ols('JAN~ 1 + ANNUAL', data = df3)\n",
    "df3_fit = df3_ols.fit()\n",
    "df3_fit.summary()"
   ]
  },
  {
   "cell_type": "code",
   "execution_count": 163,
   "metadata": {},
   "outputs": [
    {
     "name": "stdout",
     "output_type": "stream",
     "text": [
      "The intercept is 12.834836477487315\n",
      "and the slope of Annual is 0.004098261617985283\n"
     ]
    }
   ],
   "source": [
    "fit_intercept3 = df3_fit.params[\"Intercept\"]\n",
    "fit_Ann_slope = df3_fit.params[\"ANNUAL\"]\n",
    "\n",
    "print(f\"The intercept is {fit_intercept3}\\nand the slope of Annual is {fit_Ann_slope}\")"
   ]
  },
  {
   "cell_type": "code",
   "execution_count": 177,
   "metadata": {},
   "outputs": [
    {
     "data": {
      "text/plain": [
       "<matplotlib.lines._AxLine at 0x217030e14f0>"
      ]
     },
     "execution_count": 177,
     "metadata": {},
     "output_type": "execute_result"
    },
    {
     "data": {
      "image/png": "[encoded data removed]",
      "text/plain": [
       "<Figure size 432x288 with 1 Axes>"
      ]
     },
     "metadata": {
      "needs_background": "light"
     },
     "output_type": "display_data"
    }
   ],
   "source": [
    "sns.scatterplot(data= df3, x=\"ANNUAL\", y=\"JAN\")\n",
    "plt.axline([0, fit_intercept3], slope = fit_Ann_slope)\n",
    "plt.axline([0,0], slope = 1, color =\"red\")"
   ]
  },
  {
   "cell_type": "markdown",
   "metadata": {},
   "source": [
    "It is consistent with the regression to the mean"
   ]
  },
  {
   "cell_type": "markdown",
   "metadata": {},
   "source": [
    "More numbers = more values, which means that the more common numbers will take up the bulk of the results, leaning downwards as a result."
   ]
  }
 ],
 "metadata": {
  "kernelspec": {
   "display_name": "Python 3",
   "language": "python",
   "name": "python3"
  },
  "language_info": {
   "codemirror_mode": {
    "name": "ipython",
    "version": 3
   },
   "file_extension": ".py",
   "mimetype": "text/x-python",
   "name": "python",
   "nbconvert_exporter": "python",
   "pygments_lexer": "ipython3",
   "version": "3.9.7"
  }
 },
 "nbformat": 4,
 "nbformat_minor": 2
}
